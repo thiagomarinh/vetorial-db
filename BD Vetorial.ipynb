{
 "cells": [
  {
   "cell_type": "code",
   "execution_count": 1,
   "id": "b00782d8",
   "metadata": {},
   "outputs": [],
   "source": [
    "!pip install chromadb -q\n",
    "!pip install sentence-transformers -q"
   ]
  },
  {
   "cell_type": "code",
   "execution_count": 2,
   "id": "678ac867",
   "metadata": {},
   "outputs": [],
   "source": [
    "import chromadb\n",
    "\n",
    "client = chromadb.Client()\n",
    "\n",
    "collection = client.create_collection(\"metodos_vetor\")"
   ]
  },
  {
   "cell_type": "code",
   "execution_count": 3,
   "id": "569beacb",
   "metadata": {},
   "outputs": [],
   "source": [
    "collection.add(\n",
    "    documents=[\"Documentos sobre metodos em python\"],\n",
    "    metadatas=[{\"category\": \"python\"},],\n",
    "    ids=[\"id1\"]\n",
    ")"
   ]
  },
  {
   "cell_type": "code",
   "execution_count": 4,
   "id": "6c82e561",
   "metadata": {},
   "outputs": [
    {
     "name": "stdout",
     "output_type": "stream",
     "text": [
      "File Name: 1.txt\n",
      "Content: Ordenacao de Lista com Funcao Personalizada:\n",
      "def ordenar_lista_por_comprimento(lista):\n",
      "    return sorted(lista, key=lambda x: len(str(x)))\n",
      "\n",
      "\n",
      "\n",
      "File Name: 10.txt\n",
      "Content: Algoritmo de Busca BinÃ¡ria Recursiva:\n",
      "def busca_binaria_recursiva(lista, elemento, inicio=0, fim=None):\n",
      "    if fim is None:\n",
      "        fim = len(lista) - 1\n",
      "    if inicio > fim:\n",
      "        return -1\n",
      "    meio = (inicio + fim) // 2\n",
      "    if lista[meio] == elemento:\n",
      "        return meio\n",
      "    elif lista[meio] < elemento:\n",
      "        return busca_binaria_recursiva(lista, elemento, meio + 1, fim)\n",
      "    else:\n",
      "        return busca_binaria_recursiva(lista, elemento, inicio, meio - 1)\n",
      "\n",
      "\n",
      "File Name: 2.txt\n",
      "Content: Conversao de Lista de Dicionarios para Dicionario:\n",
      "def lista_para_dicionario(lista):\n",
      "    return {item['chave']: item['valor'] for item in lista}\n",
      "\n",
      "\n",
      "\n",
      "\n",
      "File Name: 3.txt\n",
      "Content: Analise de Frequencia de Palavras em um Texto:\n",
      "from collections import Counter\n",
      "def analisar_frequencia_palavras(texto):\n",
      "    palavras = texto.lower().split()\n",
      "    contagem = Counter(palavras)\n",
      "    return contagem\n",
      "\n",
      "\n",
      "\n",
      "File Name: 4.txt\n",
      "Content: Calculo de Fibonacci com Memoizacao:\n",
      "\n",
      "memo = {}\n",
      "def fibonacci(n):\n",
      "    if n in memo:\n",
      "        return memo[n]\n",
      "    if n <= 1:\n",
      "        return n\n",
      "    resultado = fibonacci(n - 1) + fibonacci(n - 2)\n",
      "    memo[n] = resultado\n",
      "    return resultado\n",
      "\n",
      "\n",
      "File Name: 5.txt\n",
      "Content: IntegraÃ§Ã£o de API usando Requests:\n",
      "\n",
      "import requests\n",
      "def obter_dados_da_api(url):\n",
      "    resposta = requests.get(url)\n",
      "    if resposta.status_code == 200:\n",
      "        return resposta.json()\n",
      "    else:\n",
      "        return None\n",
      "\n",
      "\n",
      "File Name: 6.txt\n",
      "Content: Algoritmo de Ordenacao QuickSort:\n",
      "\n",
      "def quicksort(lista):\n",
      "    if len(lista) <= 1:\n",
      "        return lista\n",
      "    pivo = lista[len(lista) // 2]\n",
      "    menores = [x for x in lista if x < pivo]\n",
      "    iguais = [x for x in lista if x == pivo]\n",
      "    maiores = [x for x in lista if x > pivo]\n",
      "    return quicksort(menores) + iguais + quicksort(maiores)\n",
      "\n",
      "\n",
      "File Name: 7.txt\n",
      "Content: Validacao de Expressao Matematica:\n",
      "\n",
      "def validar_expressao_matematica(expressao):\n",
      "    try:\n",
      "        resultado = eval(expressao)\n",
      "        return True\n",
      "    except:\n",
      "        return False\n",
      "\n",
      "\n",
      "File Name: 8.txt\n",
      "Content: TransformaÃ§Ã£o de Texto em Camel Case:\n",
      "\n",
      "def camel_case(texto):\n",
      "    palavras = texto.split()\n",
      "    return ''.join([palavras[0].lower()] + [palavra.capitalize() for palavra in palavras[1:]])\n",
      "\n",
      "\n",
      "File Name: 9.txt\n",
      "Content: Reversao de Lista em Grupos:\n",
      "\n",
      "def reverter_lista_em_grupos(lista, tamanho_grupo):\n",
      "    return [lista[i:i+tamanho_grupo][::-1] for i in range(0, len(lista), tamanho_grupo)]\n",
      "\n",
      "\n",
      "\n"
     ]
    }
   ],
   "source": [
    "import os\n",
    "\n",
    "def read_files_from_folder(folder_path):\n",
    "    file_data = []\n",
    "\n",
    "    for file_name in os.listdir(folder_path):\n",
    "        if file_name.endswith(\".txt\"):\n",
    "            with open(os.path.join(folder_path, file_name), 'r') as file:\n",
    "                content = file.read()\n",
    "                file_data.append({\"file_name\": file_name, \"content\": content})\n",
    "\n",
    "    return file_data\n",
    "\n",
    "folder_path = \"metodos\"  # your folder path\n",
    "file_data = read_files_from_folder(folder_path)\n",
    "\n",
    "for data in file_data:\n",
    "    print(f\"File Name: {data['file_name']}\")\n",
    "    print(f\"Content: {data['content']}\\n\")"
   ]
  },
  {
   "cell_type": "code",
   "execution_count": 5,
   "id": "a3d53907",
   "metadata": {},
   "outputs": [],
   "source": [
    "documents = []\n",
    "metadatas = []\n",
    "ids = []\n",
    "for index,data in enumerate(file_data):\n",
    "  documents.append(data['content'])\n",
    "  metadatas.append({'source':data['file_name']})\n",
    "  ids.append(str(index+1))"
   ]
  },
  {
   "cell_type": "code",
   "execution_count": 7,
   "id": "0bf80a84",
   "metadata": {},
   "outputs": [
    {
     "data": {
      "text/plain": [
       "[{'source': '1.txt'},\n",
       " {'source': '10.txt'},\n",
       " {'source': '2.txt'},\n",
       " {'source': '3.txt'},\n",
       " {'source': '4.txt'},\n",
       " {'source': '5.txt'},\n",
       " {'source': '6.txt'},\n",
       " {'source': '7.txt'},\n",
       " {'source': '8.txt'},\n",
       " {'source': '9.txt'}]"
      ]
     },
     "execution_count": 7,
     "metadata": {},
     "output_type": "execute_result"
    }
   ],
   "source": [
    "metadatas"
   ]
  },
  {
   "cell_type": "code",
   "execution_count": 8,
   "id": "0111eb2c",
   "metadata": {},
   "outputs": [],
   "source": [
    "from sentence_transformers import SentenceTransformer\n",
    "model = SentenceTransformer('paraphrase-MiniLM-L3-v2')"
   ]
  },
  {
   "cell_type": "code",
   "execution_count": 9,
   "id": "3ee823da",
   "metadata": {},
   "outputs": [],
   "source": [
    "documents = []\n",
    "embeddings = []\n",
    "metadatas = []\n",
    "ids = []\n",
    "for index,data in enumerate(file_data):\n",
    "  documents.append(data['content'])\n",
    "  embeding = model.encode(data['content']).tolist()\n",
    "  embeddings.append(embeding)\n",
    "  metadatas.append({'source':data['file_name']})\n",
    "  ids.append(str(index+1))"
   ]
  },
  {
   "cell_type": "code",
   "execution_count": 10,
   "id": "a1fa796c",
   "metadata": {},
   "outputs": [],
   "source": [
    "collection_emb = client.create_collection(\"collection_emb\")\n",
    "collection_emb.add(\n",
    "    documents=documents,\n",
    "    embeddings=embeddings,\n",
    "    metadatas=metadatas,\n",
    "    ids=ids\n",
    ")"
   ]
  },
  {
   "cell_type": "code",
   "execution_count": 13,
   "id": "c7844afa",
   "metadata": {},
   "outputs": [
    {
     "data": {
      "text/plain": [
       "{'ids': [['2']],\n",
       " 'distances': [[28.0635929107666]],\n",
       " 'metadatas': [[{'source': '10.txt'}]],\n",
       " 'embeddings': None,\n",
       " 'documents': [['Algoritmo de Busca BinÃ¡ria Recursiva:\\ndef busca_binaria_recursiva(lista, elemento, inicio=0, fim=None):\\n    if fim is None:\\n        fim = len(lista) - 1\\n    if inicio > fim:\\n        return -1\\n    meio = (inicio + fim) // 2\\n    if lista[meio] == elemento:\\n        return meio\\n    elif lista[meio] < elemento:\\n        return busca_binaria_recursiva(lista, elemento, meio + 1, fim)\\n    else:\\n        return busca_binaria_recursiva(lista, elemento, inicio, meio - 1)\\n']],\n",
       " 'uris': None,\n",
       " 'data': None}"
      ]
     },
     "execution_count": 13,
     "metadata": {},
     "output_type": "execute_result"
    }
   ],
   "source": [
    "query = \"busca binaria em python\"\n",
    "input_em = model.encode(query).tolist()\n",
    "\n",
    "results = collection_emb.query(\n",
    "    query_embeddings=[input_em],\n",
    "    n_results=1\n",
    ")\n",
    "results"
   ]
  },
  {
   "cell_type": "code",
   "execution_count": 14,
   "id": "43640dc1",
   "metadata": {},
   "outputs": [
    {
     "data": {
      "text/plain": [
       "{'ids': [['1']],\n",
       " 'distances': [[17.86484718322754]],\n",
       " 'metadatas': [[{'source': '1.txt'}]],\n",
       " 'embeddings': None,\n",
       " 'documents': [['Ordenacao de Lista com Funcao Personalizada:\\ndef ordenar_lista_por_comprimento(lista):\\n    return sorted(lista, key=lambda x: len(str(x)))\\n\\n']],\n",
       " 'uris': None,\n",
       " 'data': None}"
      ]
     },
     "execution_count": 14,
     "metadata": {},
     "output_type": "execute_result"
    }
   ],
   "source": [
    "query = \"algum algoritmo de ordenaçao?\"\n",
    "input_em = model.encode(query).tolist()\n",
    "\n",
    "results = collection_emb.query(\n",
    "    query_embeddings=[input_em],\n",
    "    n_results=1\n",
    ")\n",
    "results"
   ]
  },
  {
   "cell_type": "code",
   "execution_count": 15,
   "id": "104755cd",
   "metadata": {},
   "outputs": [
    {
     "data": {
      "text/plain": [
       "{'ids': [['4']],\n",
       " 'distances': [[11.085915565490723]],\n",
       " 'metadatas': [[{'source': '3.txt'}]],\n",
       " 'embeddings': None,\n",
       " 'documents': [['Analise de Frequencia de Palavras em um Texto:\\nfrom collections import Counter\\ndef analisar_frequencia_palavras(texto):\\n    palavras = texto.lower().split()\\n    contagem = Counter(palavras)\\n    return contagem\\n\\n']],\n",
       " 'uris': None,\n",
       " 'data': None}"
      ]
     },
     "execution_count": 15,
     "metadata": {},
     "output_type": "execute_result"
    }
   ],
   "source": [
    "query = \"algoritmo que busca sequencia de palavras em um texto\"\n",
    "input_em = model.encode(query).tolist()\n",
    "\n",
    "results = collection_emb.query(\n",
    "    query_embeddings=[input_em],\n",
    "    n_results=1\n",
    ")\n",
    "results"
   ]
  },
  {
   "cell_type": "code",
   "execution_count": null,
   "id": "842ec3cd",
   "metadata": {},
   "outputs": [],
   "source": []
  }
 ],
 "metadata": {
  "kernelspec": {
   "display_name": "Python 3 (ipykernel)",
   "language": "python",
   "name": "python3"
  },
  "language_info": {
   "codemirror_mode": {
    "name": "ipython",
    "version": 3
   },
   "file_extension": ".py",
   "mimetype": "text/x-python",
   "name": "python",
   "nbconvert_exporter": "python",
   "pygments_lexer": "ipython3",
   "version": "3.11.5"
  }
 },
 "nbformat": 4,
 "nbformat_minor": 5
}
